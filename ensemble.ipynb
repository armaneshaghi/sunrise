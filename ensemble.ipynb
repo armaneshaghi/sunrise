{
 "cells": [
  {
   "cell_type": "markdown",
   "id": "b53e419c",
   "metadata": {},
   "source": [
    "# Subpopulation risk stratification "
   ]
  },
  {
   "cell_type": "markdown",
   "id": "577a837e",
   "metadata": {},
   "source": [
    "We use example data provided by `sksurv` to enable its public use. Data used in the accompanying publication is proprietary and may be requested from data controllers and pharmaceutical companies listed in the main manuscript"
   ]
  },
  {
   "cell_type": "code",
   "execution_count": 3,
   "id": "1d4050fc",
   "metadata": {},
   "outputs": [],
   "source": [
    "import os\n",
    "import sys\n",
    "import pandas as pd\n",
    "import numpy as np\n",
    "from pycox import datasets\n",
    "import matplotlib.pyplot as plt\n",
    "from sklearn.preprocessing import StandardScaler\n",
    "from sklearn_pandas import DataFrameMapper\n",
    "import torchtuples as tt  # Some useful functions\n",
    "from pycox.models import DeepHitSingle\n"
   ]
  },
  {
   "cell_type": "code",
   "execution_count": 15,
   "id": "6762c56c",
   "metadata": {},
   "outputs": [],
   "source": [
    "from sksurv.datasets import load_whas500\n",
    "\n",
    "data_x, data_y = load_whas500()"
   ]
  },
  {
   "cell_type": "markdown",
   "id": "361655f3",
   "metadata": {},
   "source": [
    "### Ensemble consists of (1) gradient boosting trees, (2) deepHit and (3) trajectory based classifier. "
   ]
  },
  {
   "cell_type": "markdown",
   "id": "70a9423f",
   "metadata": {},
   "source": [
    "### Gradient boosting survival trees"
   ]
  },
  {
   "cell_type": "code",
   "execution_count": 18,
   "id": "34cf8b65",
   "metadata": {},
   "outputs": [],
   "source": [
    "from sksurv.ensemble import GradientBoostingSurvivalAnalysis"
   ]
  },
  {
   "cell_type": "code",
   "execution_count": 124,
   "id": "bfeed918",
   "metadata": {},
   "outputs": [],
   "source": [
    "data_x_train, data_y_train = data_x[:400], data_y[:400]\n",
    "data_x_test, data_y_test = data_x[400:], data_y[400:]"
   ]
  },
  {
   "cell_type": "code",
   "execution_count": 125,
   "id": "ee5df759",
   "metadata": {},
   "outputs": [],
   "source": [
    "#hyperparameters are set during training and 10-fold cross-validation on the real data (process not shown here)\n",
    "gbs = GradientBoostingSurvivalAnalysis(loss='coxph',\n",
    "                                               learning_rate=0.5,\n",
    "                                               n_estimators=50,\n",
    "                                               criterion='friedman_mse',\n",
    "                                               min_samples_split=2,\n",
    "                                               min_samples_leaf=1,\n",
    "                                               min_weight_fraction_leaf=0.0,\n",
    "                                               max_depth=50,\n",
    "                                               min_impurity_decrease=0.0,\n",
    "                                               random_state=None,\n",
    "                                               max_features=None,\n",
    "                                               max_leaf_nodes=None,\n",
    "                                               subsample=1.0,\n",
    "                                               dropout_rate=0.0,\n",
    "                                               verbose=0,\n",
    "                                               ccp_alpha=0.0)"
   ]
  },
  {
   "cell_type": "code",
   "execution_count": 126,
   "id": "f4f3b755",
   "metadata": {},
   "outputs": [
    {
     "data": {
      "text/plain": [
       "GradientBoostingSurvivalAnalysis(learning_rate=0.5, max_depth=50,\n",
       "                                 n_estimators=50)"
      ]
     },
     "execution_count": 126,
     "metadata": {},
     "output_type": "execute_result"
    }
   ],
   "source": [
    "gbs.fit(data_x_train, data_y_train)"
   ]
  },
  {
   "cell_type": "code",
   "execution_count": 127,
   "id": "b1621a51",
   "metadata": {
    "scrolled": true
   },
   "outputs": [],
   "source": [
    "#predictions are logs of hazard ratios \n",
    "gbs_predictions_train =gbs.predict( data_x_train)\n"
   ]
  },
  {
   "cell_type": "code",
   "execution_count": 117,
   "id": "aa3a60bc",
   "metadata": {},
   "outputs": [],
   "source": [
    "gbs_ranks_train = np.argsort( gbs_predictions_train )\n"
   ]
  },
  {
   "cell_type": "code",
   "execution_count": null,
   "id": "88707397",
   "metadata": {},
   "outputs": [],
   "source": []
  },
  {
   "cell_type": "markdown",
   "id": "0cf6bf02",
   "metadata": {},
   "source": [
    "### DeepHit"
   ]
  },
  {
   "cell_type": "code",
   "execution_count": 42,
   "id": "75d0271a",
   "metadata": {},
   "outputs": [],
   "source": [
    "num_durations = 10\n",
    "training_set_fraction_for_validation = 0.1\n",
    "num_nodes = [32, 32, 32, 32]"
   ]
  },
  {
   "cell_type": "code",
   "execution_count": 43,
   "id": "2694058c",
   "metadata": {},
   "outputs": [],
   "source": [
    "batch_norm = True\n",
    "dropout = 0.3\n",
    "batch_size = 128 #All hyperparameters are kept as used in the accompanying manuscript batch size of 128 for 400 subjects may not be appropriate. \n",
    "alpha = 0.1\n",
    "sigma = 0.3"
   ]
  },
  {
   "cell_type": "code",
   "execution_count": 133,
   "id": "f6924520",
   "metadata": {},
   "outputs": [],
   "source": [
    "data_y_train_df = pd.DataFrame( data_y_train )\n",
    "data_y_test_df = pd.DataFrame( data_y_test )"
   ]
  },
  {
   "cell_type": "code",
   "execution_count": 65,
   "id": "4c1d48dd",
   "metadata": {},
   "outputs": [],
   "source": [
    "duration = 'fstat'\n",
    "event = 'lenfol'"
   ]
  },
  {
   "cell_type": "code",
   "execution_count": 66,
   "id": "0e4e45b1",
   "metadata": {},
   "outputs": [],
   "source": [
    "def get_target(df): return (df[duration].values,\n",
    "                            df[event].values)\n"
   ]
  },
  {
   "cell_type": "code",
   "execution_count": 77,
   "id": "931bd9ec",
   "metadata": {},
   "outputs": [],
   "source": [
    "standardize = [([col], StandardScaler())\n",
    "               for col in data_x.columns.tolist()]"
   ]
  },
  {
   "cell_type": "code",
   "execution_count": 78,
   "id": "b2eef08c",
   "metadata": {},
   "outputs": [],
   "source": [
    "x_mapper = DataFrameMapper(standardize)"
   ]
  },
  {
   "cell_type": "code",
   "execution_count": 130,
   "id": "bd9ec462",
   "metadata": {},
   "outputs": [],
   "source": [
    "x_train = x_mapper.fit_transform(data_x_train).astype('float32') \n",
    "x_test = x_mapper.transform(data_x_test).astype('float32')\n"
   ]
  },
  {
   "cell_type": "code",
   "execution_count": 134,
   "id": "f685f986",
   "metadata": {},
   "outputs": [],
   "source": [
    "y_train = labtrans.fit_transform(*get_target(data_y_train_df))\n",
    "y_test = labtrans.transform(*get_target(data_y_test_df))\n"
   ]
  },
  {
   "cell_type": "code",
   "execution_count": 135,
   "id": "15454d14",
   "metadata": {},
   "outputs": [],
   "source": [
    "val = (x_test, y_test)\n",
    "# We don't need to transform the test labels\n",
    "in_features = x_train.shape[1]\n",
    "out_features = labtrans.out_features\n",
    "net = tt.practical.MLPVanilla(\n",
    "    in_features, num_nodes, out_features, batch_norm, dropout)\n"
   ]
  },
  {
   "cell_type": "code",
   "execution_count": 136,
   "id": "509c85ed",
   "metadata": {},
   "outputs": [],
   "source": [
    "labtrans = DeepHitSingle.label_transform(num_durations)\n"
   ]
  },
  {
   "cell_type": "code",
   "execution_count": 137,
   "id": "5284a8d4",
   "metadata": {},
   "outputs": [],
   "source": [
    "deepHitModel = DeepHitSingle(net, tt.optim.Adam, alpha=alpha,\n",
    "                                 sigma=sigma,\n",
    "                                 duration_index=labtrans.cuts)\n"
   ]
  },
  {
   "cell_type": "code",
   "execution_count": 138,
   "id": "ed8d77eb",
   "metadata": {},
   "outputs": [
    {
     "data": {
      "image/png": "[encoded data removed]",
      "text/plain": [
       "<Figure size 432x288 with 1 Axes>"
      ]
     },
     "metadata": {
      "needs_background": "light"
     },
     "output_type": "display_data"
    }
   ],
   "source": [
    "lr_finder = deepHitModel.lr_finder(\n",
    "        x_train, y_train, batch_size, tolerance=3)\n",
    "_ = lr_finder.plot()\n"
   ]
  },
  {
   "cell_type": "code",
   "execution_count": 139,
   "id": "793625ab",
   "metadata": {},
   "outputs": [],
   "source": [
    "# we divide the best lr by 3, as usually the LR it reports is higher than appropriate (3 is arbitrary)\n",
    "best_lr = lr_finder.get_best_lr() / 1"
   ]
  },
  {
   "cell_type": "code",
   "execution_count": 140,
   "id": "637a8cee",
   "metadata": {},
   "outputs": [],
   "source": [
    "deepHitModel.optimizer.set_lr(best_lr)\n",
    "epochs = 2000\n",
    "callbacks = [tt.callbacks.EarlyStopping()]"
   ]
  },
  {
   "cell_type": "code",
   "execution_count": 141,
   "id": "0b2e6454",
   "metadata": {},
   "outputs": [
    {
     "name": "stdout",
     "output_type": "stream",
     "text": [
      "0:\t[0s / 0s],\t\ttrain_loss: 0.4256,\tval_loss: 0.4498\n",
      "1:\t[0s / 0s],\t\ttrain_loss: 0.3206,\tval_loss: 0.5176\n",
      "2:\t[0s / 0s],\t\ttrain_loss: 0.2991,\tval_loss: 0.5210\n",
      "3:\t[0s / 0s],\t\ttrain_loss: 0.2485,\tval_loss: 0.4312\n",
      "4:\t[0s / 0s],\t\ttrain_loss: 0.1855,\tval_loss: 0.4002\n",
      "5:\t[0s / 0s],\t\ttrain_loss: 0.2013,\tval_loss: 0.3484\n",
      "6:\t[0s / 0s],\t\ttrain_loss: 0.2133,\tval_loss: 0.3049\n",
      "7:\t[0s / 0s],\t\ttrain_loss: 0.2072,\tval_loss: 0.2653\n",
      "8:\t[0s / 0s],\t\ttrain_loss: 0.1895,\tval_loss: 0.2612\n",
      "9:\t[0s / 0s],\t\ttrain_loss: 0.2127,\tval_loss: 0.2666\n",
      "10:\t[0s / 0s],\t\ttrain_loss: 0.1670,\tval_loss: 0.2932\n",
      "11:\t[0s / 0s],\t\ttrain_loss: 0.2398,\tval_loss: 0.3030\n",
      "12:\t[0s / 0s],\t\ttrain_loss: 0.1947,\tval_loss: 0.2624\n",
      "13:\t[0s / 0s],\t\ttrain_loss: 0.1811,\tval_loss: 0.2862\n",
      "14:\t[0s / 0s],\t\ttrain_loss: 0.2082,\tval_loss: 0.3110\n",
      "15:\t[0s / 0s],\t\ttrain_loss: 0.1624,\tval_loss: 0.2828\n",
      "16:\t[0s / 0s],\t\ttrain_loss: 0.1685,\tval_loss: 0.2904\n",
      "17:\t[0s / 0s],\t\ttrain_loss: 0.1747,\tval_loss: 0.2608\n",
      "18:\t[0s / 0s],\t\ttrain_loss: 0.1818,\tval_loss: 0.2725\n",
      "19:\t[0s / 0s],\t\ttrain_loss: 0.1571,\tval_loss: 0.2850\n",
      "20:\t[0s / 0s],\t\ttrain_loss: 0.1591,\tval_loss: 0.2776\n",
      "21:\t[0s / 0s],\t\ttrain_loss: 0.1762,\tval_loss: 0.2637\n",
      "22:\t[0s / 0s],\t\ttrain_loss: 0.1443,\tval_loss: 0.2596\n",
      "23:\t[0s / 0s],\t\ttrain_loss: 0.1798,\tval_loss: 0.2702\n",
      "24:\t[0s / 0s],\t\ttrain_loss: 0.1515,\tval_loss: 0.2827\n",
      "25:\t[0s / 0s],\t\ttrain_loss: 0.1907,\tval_loss: 0.2948\n",
      "26:\t[0s / 0s],\t\ttrain_loss: 0.2008,\tval_loss: 0.2893\n",
      "27:\t[0s / 0s],\t\ttrain_loss: 0.1496,\tval_loss: 0.2614\n",
      "28:\t[0s / 0s],\t\ttrain_loss: 0.1502,\tval_loss: 0.2629\n",
      "29:\t[0s / 0s],\t\ttrain_loss: 0.1421,\tval_loss: 0.2628\n",
      "30:\t[0s / 0s],\t\ttrain_loss: 0.1536,\tval_loss: 0.2771\n",
      "31:\t[0s / 0s],\t\ttrain_loss: 0.2555,\tval_loss: 0.2712\n",
      "32:\t[0s / 0s],\t\ttrain_loss: 0.1489,\tval_loss: 0.2227\n",
      "33:\t[0s / 0s],\t\ttrain_loss: 0.1486,\tval_loss: 0.2448\n",
      "34:\t[0s / 0s],\t\ttrain_loss: 0.1725,\tval_loss: 0.2901\n",
      "35:\t[0s / 0s],\t\ttrain_loss: 0.1424,\tval_loss: 0.2799\n",
      "36:\t[0s / 1s],\t\ttrain_loss: 0.1601,\tval_loss: 0.2661\n",
      "37:\t[0s / 1s],\t\ttrain_loss: 0.1532,\tval_loss: 0.2558\n",
      "38:\t[0s / 1s],\t\ttrain_loss: 0.1366,\tval_loss: 0.2595\n",
      "39:\t[0s / 1s],\t\ttrain_loss: 0.1745,\tval_loss: 0.2508\n",
      "40:\t[0s / 1s],\t\ttrain_loss: 0.1631,\tval_loss: 0.2401\n",
      "41:\t[0s / 1s],\t\ttrain_loss: 0.1514,\tval_loss: 0.2460\n",
      "42:\t[0s / 1s],\t\ttrain_loss: 0.1156,\tval_loss: 0.2510\n"
     ]
    }
   ],
   "source": [
    "log = deepHitModel.fit(x_train, y_train, batch_size,\n",
    "                           epochs, callbacks, val_data=val)"
   ]
  },
  {
   "cell_type": "code",
   "execution_count": 142,
   "id": "a69ee79f",
   "metadata": {},
   "outputs": [],
   "source": [
    "surv = deepHitModel.interpolate(10).predict_surv_df(x_train)\n",
    "risk_df = 1 - surv\n",
    "risk_df.index.name = 'Duration'\n",
    "risk_df.reset_index(inplace=True)\n"
   ]
  },
  {
   "cell_type": "code",
   "execution_count": 119,
   "id": "d981cdb7",
   "metadata": {},
   "outputs": [
    {
     "data": {
      "text/html": [
       "<div>\n",
       "<style scoped>\n",
       "    .dataframe tbody tr th:only-of-type {\n",
       "        vertical-align: middle;\n",
       "    }\n",
       "\n",
       "    .dataframe tbody tr th {\n",
       "        vertical-align: top;\n",
       "    }\n",
       "\n",
       "    .dataframe thead th {\n",
       "        text-align: right;\n",
       "    }\n",
       "</style>\n",
       "<table border=\"1\" class=\"dataframe\">\n",
       "  <thead>\n",
       "    <tr style=\"text-align: right;\">\n",
       "      <th></th>\n",
       "      <th>Duration</th>\n",
       "      <th>0</th>\n",
       "      <th>1</th>\n",
       "      <th>2</th>\n",
       "      <th>3</th>\n",
       "      <th>4</th>\n",
       "      <th>5</th>\n",
       "      <th>6</th>\n",
       "      <th>7</th>\n",
       "      <th>8</th>\n",
       "      <th>...</th>\n",
       "      <th>390</th>\n",
       "      <th>391</th>\n",
       "      <th>392</th>\n",
       "      <th>393</th>\n",
       "      <th>394</th>\n",
       "      <th>395</th>\n",
       "      <th>396</th>\n",
       "      <th>397</th>\n",
       "      <th>398</th>\n",
       "      <th>399</th>\n",
       "    </tr>\n",
       "  </thead>\n",
       "  <tbody>\n",
       "    <tr>\n",
       "      <th>0</th>\n",
       "      <td>0</td>\n",
       "      <td>0.358375</td>\n",
       "      <td>0.728261</td>\n",
       "      <td>0.568807</td>\n",
       "      <td>0.399913</td>\n",
       "      <td>0.726761</td>\n",
       "      <td>0.143414</td>\n",
       "      <td>0.773593</td>\n",
       "      <td>0.695517</td>\n",
       "      <td>0.227164</td>\n",
       "      <td>...</td>\n",
       "      <td>0.516680</td>\n",
       "      <td>0.376170</td>\n",
       "      <td>0.281682</td>\n",
       "      <td>0.680190</td>\n",
       "      <td>0.193926</td>\n",
       "      <td>0.372210</td>\n",
       "      <td>0.152431</td>\n",
       "      <td>0.206786</td>\n",
       "      <td>0.854253</td>\n",
       "      <td>0.299975</td>\n",
       "    </tr>\n",
       "    <tr>\n",
       "      <th>1</th>\n",
       "      <td>1</td>\n",
       "      <td>0.358463</td>\n",
       "      <td>0.728303</td>\n",
       "      <td>0.568942</td>\n",
       "      <td>0.400019</td>\n",
       "      <td>0.726803</td>\n",
       "      <td>0.143446</td>\n",
       "      <td>0.773620</td>\n",
       "      <td>0.695576</td>\n",
       "      <td>0.227189</td>\n",
       "      <td>...</td>\n",
       "      <td>0.516818</td>\n",
       "      <td>0.376265</td>\n",
       "      <td>0.281723</td>\n",
       "      <td>0.680255</td>\n",
       "      <td>0.193949</td>\n",
       "      <td>0.372300</td>\n",
       "      <td>0.152449</td>\n",
       "      <td>0.206831</td>\n",
       "      <td>0.854260</td>\n",
       "      <td>0.300041</td>\n",
       "    </tr>\n",
       "    <tr>\n",
       "      <th>2</th>\n",
       "      <td>2</td>\n",
       "      <td>0.358550</td>\n",
       "      <td>0.728345</td>\n",
       "      <td>0.569077</td>\n",
       "      <td>0.400126</td>\n",
       "      <td>0.726846</td>\n",
       "      <td>0.143478</td>\n",
       "      <td>0.773648</td>\n",
       "      <td>0.695634</td>\n",
       "      <td>0.227213</td>\n",
       "      <td>...</td>\n",
       "      <td>0.516955</td>\n",
       "      <td>0.376360</td>\n",
       "      <td>0.281765</td>\n",
       "      <td>0.680319</td>\n",
       "      <td>0.193972</td>\n",
       "      <td>0.372390</td>\n",
       "      <td>0.152467</td>\n",
       "      <td>0.206876</td>\n",
       "      <td>0.854267</td>\n",
       "      <td>0.300106</td>\n",
       "    </tr>\n",
       "    <tr>\n",
       "      <th>3</th>\n",
       "      <td>3</td>\n",
       "      <td>0.358638</td>\n",
       "      <td>0.728386</td>\n",
       "      <td>0.569212</td>\n",
       "      <td>0.400232</td>\n",
       "      <td>0.726888</td>\n",
       "      <td>0.143510</td>\n",
       "      <td>0.773676</td>\n",
       "      <td>0.695692</td>\n",
       "      <td>0.227238</td>\n",
       "      <td>...</td>\n",
       "      <td>0.517092</td>\n",
       "      <td>0.376455</td>\n",
       "      <td>0.281807</td>\n",
       "      <td>0.680383</td>\n",
       "      <td>0.193994</td>\n",
       "      <td>0.372480</td>\n",
       "      <td>0.152485</td>\n",
       "      <td>0.206921</td>\n",
       "      <td>0.854274</td>\n",
       "      <td>0.300171</td>\n",
       "    </tr>\n",
       "    <tr>\n",
       "      <th>4</th>\n",
       "      <td>4</td>\n",
       "      <td>0.358725</td>\n",
       "      <td>0.728428</td>\n",
       "      <td>0.569346</td>\n",
       "      <td>0.400339</td>\n",
       "      <td>0.726930</td>\n",
       "      <td>0.143542</td>\n",
       "      <td>0.773704</td>\n",
       "      <td>0.695751</td>\n",
       "      <td>0.227263</td>\n",
       "      <td>...</td>\n",
       "      <td>0.517230</td>\n",
       "      <td>0.376550</td>\n",
       "      <td>0.281849</td>\n",
       "      <td>0.680447</td>\n",
       "      <td>0.194017</td>\n",
       "      <td>0.372570</td>\n",
       "      <td>0.152503</td>\n",
       "      <td>0.206966</td>\n",
       "      <td>0.854282</td>\n",
       "      <td>0.300237</td>\n",
       "    </tr>\n",
       "    <tr>\n",
       "      <th>...</th>\n",
       "      <td>...</td>\n",
       "      <td>...</td>\n",
       "      <td>...</td>\n",
       "      <td>...</td>\n",
       "      <td>...</td>\n",
       "      <td>...</td>\n",
       "      <td>...</td>\n",
       "      <td>...</td>\n",
       "      <td>...</td>\n",
       "      <td>...</td>\n",
       "      <td>...</td>\n",
       "      <td>...</td>\n",
       "      <td>...</td>\n",
       "      <td>...</td>\n",
       "      <td>...</td>\n",
       "      <td>...</td>\n",
       "      <td>...</td>\n",
       "      <td>...</td>\n",
       "      <td>...</td>\n",
       "      <td>...</td>\n",
       "      <td>...</td>\n",
       "    </tr>\n",
       "    <tr>\n",
       "      <th>86</th>\n",
       "      <td>86</td>\n",
       "      <td>0.731087</td>\n",
       "      <td>0.880993</td>\n",
       "      <td>0.810405</td>\n",
       "      <td>0.746213</td>\n",
       "      <td>0.880270</td>\n",
       "      <td>0.653130</td>\n",
       "      <td>0.900909</td>\n",
       "      <td>0.866219</td>\n",
       "      <td>0.685366</td>\n",
       "      <td>...</td>\n",
       "      <td>0.790109</td>\n",
       "      <td>0.737450</td>\n",
       "      <td>0.704921</td>\n",
       "      <td>0.859459</td>\n",
       "      <td>0.672897</td>\n",
       "      <td>0.736466</td>\n",
       "      <td>0.657386</td>\n",
       "      <td>0.676913</td>\n",
       "      <td>0.937199</td>\n",
       "      <td>0.710276</td>\n",
       "    </tr>\n",
       "    <tr>\n",
       "      <th>87</th>\n",
       "      <td>87</td>\n",
       "      <td>0.792446</td>\n",
       "      <td>0.906116</td>\n",
       "      <td>0.849491</td>\n",
       "      <td>0.802922</td>\n",
       "      <td>0.905517</td>\n",
       "      <td>0.737820</td>\n",
       "      <td>0.921912</td>\n",
       "      <td>0.894196</td>\n",
       "      <td>0.761563</td>\n",
       "      <td>...</td>\n",
       "      <td>0.834472</td>\n",
       "      <td>0.796763</td>\n",
       "      <td>0.775116</td>\n",
       "      <td>0.888807</td>\n",
       "      <td>0.752575</td>\n",
       "      <td>0.796358</td>\n",
       "      <td>0.741433</td>\n",
       "      <td>0.754847</td>\n",
       "      <td>0.950970</td>\n",
       "      <td>0.778019</td>\n",
       "    </tr>\n",
       "    <tr>\n",
       "      <th>88</th>\n",
       "      <td>88</td>\n",
       "      <td>0.853805</td>\n",
       "      <td>0.931239</td>\n",
       "      <td>0.888578</td>\n",
       "      <td>0.859631</td>\n",
       "      <td>0.930764</td>\n",
       "      <td>0.822511</td>\n",
       "      <td>0.942914</td>\n",
       "      <td>0.922173</td>\n",
       "      <td>0.837760</td>\n",
       "      <td>...</td>\n",
       "      <td>0.878834</td>\n",
       "      <td>0.856076</td>\n",
       "      <td>0.845312</td>\n",
       "      <td>0.918155</td>\n",
       "      <td>0.832252</td>\n",
       "      <td>0.856250</td>\n",
       "      <td>0.825480</td>\n",
       "      <td>0.832781</td>\n",
       "      <td>0.964741</td>\n",
       "      <td>0.845762</td>\n",
       "    </tr>\n",
       "    <tr>\n",
       "      <th>89</th>\n",
       "      <td>89</td>\n",
       "      <td>0.915164</td>\n",
       "      <td>0.956363</td>\n",
       "      <td>0.927664</td>\n",
       "      <td>0.916341</td>\n",
       "      <td>0.956011</td>\n",
       "      <td>0.907202</td>\n",
       "      <td>0.963917</td>\n",
       "      <td>0.950150</td>\n",
       "      <td>0.913957</td>\n",
       "      <td>...</td>\n",
       "      <td>0.923196</td>\n",
       "      <td>0.915389</td>\n",
       "      <td>0.915507</td>\n",
       "      <td>0.947503</td>\n",
       "      <td>0.911930</td>\n",
       "      <td>0.916141</td>\n",
       "      <td>0.909528</td>\n",
       "      <td>0.910715</td>\n",
       "      <td>0.978512</td>\n",
       "      <td>0.913505</td>\n",
       "    </tr>\n",
       "    <tr>\n",
       "      <th>90</th>\n",
       "      <td>90</td>\n",
       "      <td>0.976522</td>\n",
       "      <td>0.981486</td>\n",
       "      <td>0.966750</td>\n",
       "      <td>0.973050</td>\n",
       "      <td>0.981258</td>\n",
       "      <td>0.991893</td>\n",
       "      <td>0.984920</td>\n",
       "      <td>0.978127</td>\n",
       "      <td>0.990155</td>\n",
       "      <td>...</td>\n",
       "      <td>0.967559</td>\n",
       "      <td>0.974703</td>\n",
       "      <td>0.985703</td>\n",
       "      <td>0.976852</td>\n",
       "      <td>0.991607</td>\n",
       "      <td>0.976033</td>\n",
       "      <td>0.993575</td>\n",
       "      <td>0.988649</td>\n",
       "      <td>0.992283</td>\n",
       "      <td>0.981248</td>\n",
       "    </tr>\n",
       "  </tbody>\n",
       "</table>\n",
       "<p>91 rows × 401 columns</p>\n",
       "</div>"
      ],
      "text/plain": [
       "    Duration         0         1         2         3         4         5  \\\n",
       "0          0  0.358375  0.728261  0.568807  0.399913  0.726761  0.143414   \n",
       "1          1  0.358463  0.728303  0.568942  0.400019  0.726803  0.143446   \n",
       "2          2  0.358550  0.728345  0.569077  0.400126  0.726846  0.143478   \n",
       "3          3  0.358638  0.728386  0.569212  0.400232  0.726888  0.143510   \n",
       "4          4  0.358725  0.728428  0.569346  0.400339  0.726930  0.143542   \n",
       "..       ...       ...       ...       ...       ...       ...       ...   \n",
       "86        86  0.731087  0.880993  0.810405  0.746213  0.880270  0.653130   \n",
       "87        87  0.792446  0.906116  0.849491  0.802922  0.905517  0.737820   \n",
       "88        88  0.853805  0.931239  0.888578  0.859631  0.930764  0.822511   \n",
       "89        89  0.915164  0.956363  0.927664  0.916341  0.956011  0.907202   \n",
       "90        90  0.976522  0.981486  0.966750  0.973050  0.981258  0.991893   \n",
       "\n",
       "           6         7         8  ...       390       391       392       393  \\\n",
       "0   0.773593  0.695517  0.227164  ...  0.516680  0.376170  0.281682  0.680190   \n",
       "1   0.773620  0.695576  0.227189  ...  0.516818  0.376265  0.281723  0.680255   \n",
       "2   0.773648  0.695634  0.227213  ...  0.516955  0.376360  0.281765  0.680319   \n",
       "3   0.773676  0.695692  0.227238  ...  0.517092  0.376455  0.281807  0.680383   \n",
       "4   0.773704  0.695751  0.227263  ...  0.517230  0.376550  0.281849  0.680447   \n",
       "..       ...       ...       ...  ...       ...       ...       ...       ...   \n",
       "86  0.900909  0.866219  0.685366  ...  0.790109  0.737450  0.704921  0.859459   \n",
       "87  0.921912  0.894196  0.761563  ...  0.834472  0.796763  0.775116  0.888807   \n",
       "88  0.942914  0.922173  0.837760  ...  0.878834  0.856076  0.845312  0.918155   \n",
       "89  0.963917  0.950150  0.913957  ...  0.923196  0.915389  0.915507  0.947503   \n",
       "90  0.984920  0.978127  0.990155  ...  0.967559  0.974703  0.985703  0.976852   \n",
       "\n",
       "         394       395       396       397       398       399  \n",
       "0   0.193926  0.372210  0.152431  0.206786  0.854253  0.299975  \n",
       "1   0.193949  0.372300  0.152449  0.206831  0.854260  0.300041  \n",
       "2   0.193972  0.372390  0.152467  0.206876  0.854267  0.300106  \n",
       "3   0.193994  0.372480  0.152485  0.206921  0.854274  0.300171  \n",
       "4   0.194017  0.372570  0.152503  0.206966  0.854282  0.300237  \n",
       "..       ...       ...       ...       ...       ...       ...  \n",
       "86  0.672897  0.736466  0.657386  0.676913  0.937199  0.710276  \n",
       "87  0.752575  0.796358  0.741433  0.754847  0.950970  0.778019  \n",
       "88  0.832252  0.856250  0.825480  0.832781  0.964741  0.845762  \n",
       "89  0.911930  0.916141  0.909528  0.910715  0.978512  0.913505  \n",
       "90  0.991607  0.976033  0.993575  0.988649  0.992283  0.981248  \n",
       "\n",
       "[91 rows x 401 columns]"
      ]
     },
     "execution_count": 119,
     "metadata": {},
     "output_type": "execute_result"
    }
   ],
   "source": [
    "risk_df\n"
   ]
  },
  {
   "cell_type": "code",
   "execution_count": 144,
   "id": "ec7f754a",
   "metadata": {},
   "outputs": [],
   "source": [
    "# extracting deepHit risk at a specific time\n",
    "# 10 was caclculated as close to two years in the accompanying manuscript. The index\n",
    "# should be changed based on the study \n",
    "deepHitPredictionsTrain = risk_df.iloc[10, 1:].rank()\n"
   ]
  },
  {
   "cell_type": "markdown",
   "id": "259fb12e",
   "metadata": {},
   "source": [
    "Mixture model"
   ]
  },
  {
   "cell_type": "markdown",
   "id": "03630993",
   "metadata": {},
   "source": [
    "We used multi-level mixture model using Mplus software. The codes are available at \n",
    "https://www.statmodel.com/usersguide/chapter10.shtml\n"
   ]
  },
  {
   "cell_type": "markdown",
   "id": "3eeeb7d2",
   "metadata": {},
   "source": [
    "Due to license restrictions, only M-Plus code is available here and the license may be purchased from the M-Plus website to access the software. "
   ]
  },
  {
   "cell_type": "markdown",
   "id": "6a4a6cd5",
   "metadata": {},
   "source": [
    "Example for one-class model"
   ]
  },
  {
   "cell_type": "markdown",
   "id": "a9c6d761",
   "metadata": {},
   "source": [
    "    TITLE:     MEMM\n",
    "    DATA:      FILE IS edss_array.dat;\n",
    "    VARIABLE:  NAMES ARE edss1-edss5 t1-t5;\n",
    "               TSCORES = t1-t5;\n",
    "               CLASSES = C(1);\n",
    "               MISSING = ALL(-999);\n",
    "    ANALYSIS:  ESTIMATOR = MLR;\n",
    "               TYPE = Random Mixture;\n",
    "               PROCESSORS = 10;\n",
    "               !ALGORITHM=INTEGRATION;\n",
    "               STARTS=1000 500;\n",
    "               !MCONVERGENCE =0.1;\n",
    "    SAVEDATA:  FILE=edss_1_Predictions.csv;\n",
    "               SAVE=CPROB;\n",
    "    MODEL:\n",
    "               %OVERALL%\n",
    "                          I S | edss1-edss5 AT t1-t5;\n",
    "               I;\n",
    "               S;\n",
    "               I S WITH I S;\n",
    "    edss1;\n",
    "    edss2;\n",
    "    edss3;\n",
    "    edss4;\n",
    "    edss5;\n",
    "\n",
    "    %C#1%\n",
    "    [I-S*1](M1-M2);\n",
    "    I-S (V1-V2);\n",
    "    I WITH S (COV1);\n",
    "    !I;\n",
    "    !S;\n",
    "    !edss1;\n",
    "    !edss2;\n",
    "    !edss3;\n",
    "    !edss4;\n",
    "    !edss5;\n",
    "\n",
    "    OUTPUT: TECH7;"
   ]
  },
  {
   "cell_type": "markdown",
   "id": "b9ef7c1d",
   "metadata": {},
   "source": [
    "Example for three-class model"
   ]
  },
  {
   "cell_type": "markdown",
   "id": "4680cb8d",
   "metadata": {},
   "source": [
    "\n",
    "    TITLE:     MEMM\n",
    "    DATA:      FILE IS edss_array.dat;\n",
    "    VARIABLE:  NAMES ARE edss1-edss5 t1-t5;\n",
    "               TSCORES = t1-t5;\n",
    "               CLASSES = C(3);\n",
    "               MISSING = ALL(-999);\n",
    "    ANALYSIS:  ESTIMATOR = MLR;\n",
    "               TYPE = Random Mixture;\n",
    "               PROCESSORS = 10;\n",
    "               !ALGORITHM=INTEGRATION;\n",
    "               STARTS=1000 500;\n",
    "               !MCONVERGENCE =0.1;\n",
    "    SAVEDATA:  FILE=edss_3_Predictions.csv;\n",
    "               SAVE=CPROB;\n",
    "    MODEL:\n",
    "               %OVERALL%\n",
    "                        I S | edss1-edss5 AT t1-t5;\n",
    "               I;\n",
    "               S;\n",
    "               I S WITH I S;\n",
    "        edss1;\n",
    "    edss2;\n",
    "    edss3;\n",
    "    edss4;\n",
    "    edss5;\n",
    "\n",
    "    %C#1%\n",
    "    [I-S*1](M1-M2);\n",
    "    I-S (V1-V2);\n",
    "    I WITH S (COV1);\n",
    "    !I;\n",
    "    !S;\n",
    "\n",
    "     !edss1;\n",
    "    !edss2;\n",
    "    !edss3;\n",
    "    !edss4;\n",
    "    !edss5;\n",
    "\n",
    "    %C#2%\n",
    "    [I-S*2](M3-M4);\n",
    "    I-S (V3-V4);\n",
    "    I WITH S (COV2);\n",
    "    !I;\n",
    "    !S;\n",
    "    !edss1;\n",
    "    !edss2;\n",
    "    !edss3;\n",
    "    !edss4;\n",
    "    !edss5;\n",
    "\n",
    "    %C#3%\n",
    "    [I-S*3](M5-M6);\n",
    "    I-S (V5-V6);\n",
    "    I WITH S (COV3);\n",
    "    !I;\n",
    "    !S;\n",
    "    !edss1;\n",
    "    !edss2;\n",
    "    !edss3;\n",
    "    !edss4;\n",
    "    !edss5;\n",
    "\n",
    "    OUTPUT: TECH7;"
   ]
  },
  {
   "cell_type": "markdown",
   "id": "b728a7ab",
   "metadata": {},
   "source": [
    "### Ensemble model"
   ]
  },
  {
   "cell_type": "markdown",
   "id": "a7bac264",
   "metadata": {},
   "source": [
    "Mixture model is included in the original paper accompanying this code, however, is not included here because of M-Plus license restrictions (which cannot be implemented inside a Docker). "
   ]
  },
  {
   "cell_type": "markdown",
   "id": "90a51b83",
   "metadata": {},
   "source": [
    "Ensemble model only includes the DeepHit and GBS models"
   ]
  },
  {
   "cell_type": "code",
   "execution_count": 99,
   "id": "6c061e46",
   "metadata": {},
   "outputs": [],
   "source": [
    "from sksurv import linear_model"
   ]
  },
  {
   "cell_type": "code",
   "execution_count": 100,
   "id": "923cd4c4",
   "metadata": {},
   "outputs": [],
   "source": [
    "cox = linear_model.CoxnetSurvivalAnalysis()"
   ]
  },
  {
   "cell_type": "code",
   "execution_count": null,
   "id": "ad81bf0f",
   "metadata": {},
   "outputs": [],
   "source": [
    "# GBS prediction \n",
    "gbs_ranks_train\n",
    "\n",
    "deepHitPredictionsTrain\n",
    "\n",
    "\n"
   ]
  },
  {
   "cell_type": "code",
   "execution_count": 180,
   "id": "69e50218",
   "metadata": {},
   "outputs": [],
   "source": [
    "#deep hit prediction\n",
    "surv_test = deepHitModel.interpolate(10).predict_surv_df(x_test)\n",
    "risk_df = 1 - surv_test\n",
    "risk_df.index.name = 'Duration'\n",
    "risk_df.reset_index(inplace=True)\n"
   ]
  },
  {
   "cell_type": "code",
   "execution_count": 181,
   "id": "e270e68b",
   "metadata": {},
   "outputs": [],
   "source": [
    "gbs_predictions_test =np.argsort( gbs.predict( data_x_test)  )\n"
   ]
  },
  {
   "cell_type": "markdown",
   "id": "10261e95",
   "metadata": {},
   "source": [
    "# SunRiSe ensemble model "
   ]
  },
  {
   "cell_type": "markdown",
   "id": "dd727dec",
   "metadata": {},
   "source": [
    "experiments with the mixture model showed the three group is the best way to classify patients, therefore here we use tertiles to divide patients in three groups. "
   ]
  },
  {
   "cell_type": "code",
   "execution_count": 182,
   "id": "f26b2cae",
   "metadata": {},
   "outputs": [],
   "source": [
    "predictions_train = pd.DataFrame( {'gbs': gbs_ranks_train,\n",
    "               'deepHit': deepHitPredictionsTrain})"
   ]
  },
  {
   "cell_type": "code",
   "execution_count": 183,
   "id": "f244d806",
   "metadata": {},
   "outputs": [
    {
     "data": {
      "text/plain": [
       "CoxnetSurvivalAnalysis()"
      ]
     },
     "execution_count": 183,
     "metadata": {},
     "output_type": "execute_result"
    }
   ],
   "source": [
    "cox.fit(predictions_train, data_y_train)"
   ]
  },
  {
   "cell_type": "code",
   "execution_count": 185,
   "id": "bd342b22",
   "metadata": {
    "scrolled": true
   },
   "outputs": [],
   "source": [
    "predictions_Test = pd.DataFrame( {'gbs': gbs_predictions_test, \n",
    "                                 'deepHit': risk_df.iloc[10, 1:].rank()\n",
    "\n",
    "                                  })"
   ]
  },
  {
   "cell_type": "code",
   "execution_count": 188,
   "id": "e3a21c6e",
   "metadata": {},
   "outputs": [],
   "source": [
    "results = cox.predict( predictions_Test)"
   ]
  },
  {
   "cell_type": "code",
   "execution_count": 191,
   "id": "50b0f564",
   "metadata": {},
   "outputs": [],
   "source": [
    "data_y_test_df = pd.DataFrame ( data_y_test )"
   ]
  },
  {
   "cell_type": "code",
   "execution_count": 193,
   "id": "4aa0c1bc",
   "metadata": {},
   "outputs": [
    {
     "data": {
      "text/plain": [
       "array([1.29511743, 2.2847219 , 2.29239598, 1.77269054, 2.09155801,\n",
       "       1.95043691, 1.15811074, 1.84956429, 1.400665  , 2.2737713 ,\n",
       "       1.57652752, 1.56976068, 1.70676737, 1.69191039, 1.875447  ,\n",
       "       1.48144514, 2.13118241, 1.82689454, 1.99787408, 1.50935038,\n",
       "       1.66512043, 2.33885656, 1.20178021, 1.75594971, 2.18440982,\n",
       "       1.5719219 , 1.38831595, 1.16655339, 1.27621538, 1.83289281,\n",
       "       1.65333193, 2.1572038 , 2.27893166, 1.61419872, 1.78043397,\n",
       "       2.09225723, 1.95252879, 1.20924627, 1.30830438, 2.28437518,\n",
       "       1.42514925, 1.78357178, 1.39375948, 1.39271354, 1.18887643,\n",
       "       1.91946319, 1.58545557, 2.30202326, 1.48521284, 2.1128351 ,\n",
       "       1.99612892, 2.06505122, 1.91953253, 1.73969428, 2.30809087,\n",
       "       1.17820321, 1.82131234, 2.16424801, 1.61063905, 2.21747542,\n",
       "       1.65996008, 1.2774    , 2.36431741, 1.30174557, 1.5573423 ,\n",
       "       1.95329735, 1.33160401, 1.86686566, 1.97785095, 2.17680508,\n",
       "       1.49323364, 2.13990244, 1.23373053, 1.99605957, 1.80791736,\n",
       "       1.7428321 , 2.14367014, 2.26930438, 1.93760247, 1.34611427,\n",
       "       1.22668632, 1.11395587, 1.86700435, 1.4841669 , 1.64049749,\n",
       "       2.13125175, 1.17555079, 1.47746941, 1.12679031, 1.2849354 ,\n",
       "       1.97157532, 2.41300856, 2.30188458, 1.68807335, 2.22744941,\n",
       "       1.39794323, 1.61154631, 1.61538335, 1.2547996 , 2.10125463])"
      ]
     },
     "execution_count": 193,
     "metadata": {},
     "output_type": "execute_result"
    }
   ],
   "source": [
    "results"
   ]
  },
  {
   "cell_type": "markdown",
   "id": "a9e5c646",
   "metadata": {},
   "source": [
    "The results can be used for ranking, looking at specific thresholds (e.g, groups) to stratify patients. In the accompanying paper, the mixture models were used in the training data set (with M-Plus) to determine the number of groups and since number 3 was found to be the best number of subgrups, a tertile of thresholds was used here. "
   ]
  },
  {
   "cell_type": "code",
   "execution_count": null,
   "id": "dbd8b152",
   "metadata": {},
   "outputs": [],
   "source": []
  }
 ],
 "metadata": {
  "kernelspec": {
   "display_name": "Python 3 (ipykernel)",
   "language": "python",
   "name": "python3"
  },
  "language_info": {
   "codemirror_mode": {
    "name": "ipython",
    "version": 3
   },
   "file_extension": ".py",
   "mimetype": "text/x-python",
   "name": "python",
   "nbconvert_exporter": "python",
   "pygments_lexer": "ipython3",
   "version": "3.9.12"
  }
 },
 "nbformat": 4,
 "nbformat_minor": 5
}
